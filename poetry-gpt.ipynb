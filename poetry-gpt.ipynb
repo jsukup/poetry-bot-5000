{
 "metadata": {
  "language_info": {
   "codemirror_mode": {
    "name": "ipython",
    "version": 3
   },
   "file_extension": ".py",
   "mimetype": "text/x-python",
   "name": "python",
   "nbconvert_exporter": "python",
   "pygments_lexer": "ipython3",
   "version": 3
  },
  "orig_nbformat": 2
 },
 "nbformat": 4,
 "nbformat_minor": 2,
 "cells": [
  {
   "cell_type": "code",
   "execution_count": null,
   "metadata": {},
   "outputs": [],
   "source": [
    "!pip install gpt-2-simple \n",
    "!pip install tensorflow==1.15"
   ]
  },
  {
   "cell_type": "code",
   "execution_count": null,
   "metadata": {},
   "outputs": [],
   "source": [
    "import gpt_2_simple as gpt2\n",
    "import os\n",
    "import requests\n",
    "import tensorflow as tf\n",
    "\n",
    "model_name = \"124M\"\n",
    "if not os.path.isdir(os.path.join(\"models\", model_name)):\n",
    "\tprint(f\"Downloading {model_name} model...\")\n",
    "\tgpt2.download_gpt2(model_name=model_name)   # model is saved into current directory under /models/124M/\n",
    "\n",
    "\n",
    "file_name = \"poe.txt\"\n",
    "if not os.path.isfile(file_name):\n",
    "\turl = \"http://www.gutenberg.org/cache/epub/10031/pg10031.txt\"\n",
    "\tdata = requests.get(url)\n",
    "\t\n",
    "\twith open(file_name, 'w', encoding='utf-8') as f:\n",
    "\t\tf.write(data.text)\n",
    "    \n",
    "sess = gpt2.start_tf_sess()\n",
    "\n",
    "gpt2.finetune(sess,\n",
    "              file_name,\n",
    "              model_name=model_name,\n",
    "              steps=500)   # steps is max number of training steps\n",
    "\n",
    "gpt2.generate(sess)\n"
   ]
  }
 ]
}